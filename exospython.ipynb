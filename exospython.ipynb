{
  "nbformat": 4,
  "nbformat_minor": 0,
  "metadata": {
    "colab": {
      "provenance": [],
      "include_colab_link": true
    },
    "kernelspec": {
      "name": "python3",
      "display_name": "Python 3"
    },
    "language_info": {
      "name": "python"
    }
  },
  "cells": [
    {
      "cell_type": "markdown",
      "metadata": {
        "id": "view-in-github",
        "colab_type": "text"
      },
      "source": [
        "<a href=\"https://colab.research.google.com/github/Ayoub-Moutaouakil/python-H3/blob/main/exospython.ipynb\" target=\"_parent\"><img src=\"https://colab.research.google.com/assets/colab-badge.svg\" alt=\"Open In Colab\"/></a>"
      ]
    },
    {
      "cell_type": "markdown",
      "source": [
        "### Exo 2.1\n"
      ],
      "metadata": {
        "id": "tLj0NIix37tw"
      }
    },
    {
      "cell_type": "code",
      "source": [
        "def condition_et_produit(a, b):\n",
        "  if (a > 0 and b > 0) or (a < 0 and b < 0):\n",
        "      return \"Positif\"\n",
        "  else:\n",
        "      return \"Négatif\"\n",
        "\n",
        "#################################################\n",
        "\n",
        "a = int(input(\"Entrez nombre a : \"))\n",
        "b = int(input(\"Entrez nombre b : \"))\n",
        "\n",
        "print(condition_et_produit(a, b))\n"
      ],
      "metadata": {
        "colab": {
          "base_uri": "https://localhost:8080/"
        },
        "id": "Y0uwUS1f2FX0",
        "outputId": "04ac269c-5d6d-4446-dc56-c8296a96915f"
      },
      "execution_count": null,
      "outputs": [
        {
          "output_type": "stream",
          "name": "stdout",
          "text": [
            "Entrez nombre a : 5\n",
            "Entrez nombre b : -5\n",
            "Négatif\n"
          ]
        }
      ]
    },
    {
      "cell_type": "markdown",
      "source": [
        "### Exo 2.2"
      ],
      "metadata": {
        "id": "ipzdWfqu4qgm"
      }
    },
    {
      "cell_type": "code",
      "source": [
        "def additivite(x):\n",
        "  result = 0\n",
        "  for i in range(1,x+1):\n",
        "      result = result + i\n",
        "  return result\n",
        "\n",
        "####################################################\n",
        "\n",
        "var = int(input(\"Rentrez un nombre \\t\"))\n",
        "\n",
        "print(additivite(var))\n",
        "\n"
      ],
      "metadata": {
        "colab": {
          "base_uri": "https://localhost:8080/"
        },
        "id": "Vn37qB6k4q11",
        "outputId": "ec090bf4-f190-44ef-f91a-9e68b7bd850e"
      },
      "execution_count": null,
      "outputs": [
        {
          "output_type": "stream",
          "name": "stdout",
          "text": [
            "Rentrez un nombre \t5\n",
            "15\n"
          ]
        }
      ]
    },
    {
      "cell_type": "markdown",
      "source": [
        "### Exo 2.3"
      ],
      "metadata": {
        "id": "1dUG9wdt7JYL"
      }
    },
    {
      "cell_type": "code",
      "source": [
        "def sommetab(tab):\n",
        "  result = 0\n",
        "  for i in tab:\n",
        "      result = result + i\n",
        "  return result\n",
        "\n",
        "###################################################\n",
        "\n",
        "tab = [1,2,3,4,5]\n",
        "\n",
        "print(sommetab(tab))"
      ],
      "metadata": {
        "colab": {
          "base_uri": "https://localhost:8080/"
        },
        "id": "xw_h2qyE7JsK",
        "outputId": "7fa2f2f4-0d9f-4a5b-f7d5-ec08772845b8"
      },
      "execution_count": null,
      "outputs": [
        {
          "output_type": "stream",
          "name": "stdout",
          "text": [
            "15\n"
          ]
        }
      ]
    },
    {
      "cell_type": "markdown",
      "source": [
        "### Exo 2.4"
      ],
      "metadata": {
        "id": "iS9xzuIQ8GYw"
      }
    },
    {
      "cell_type": "code",
      "source": [
        "def fac_product(tab1, tab2):\n",
        "  n = 0\n",
        "  for i in range(len(tab1)):\n",
        "      for j in range(len(tab2)):\n",
        "          n = n + tab1[i] * tab2[j]\n",
        "  return n\n",
        "\n",
        "###################################################\n",
        "\n",
        "tab1 = [9, 12, 3, 7]\n",
        "tab2 = [2, 1, 12, 8]\n",
        "\n",
        "print(fac_product(tab1, tab2))"
      ],
      "metadata": {
        "colab": {
          "base_uri": "https://localhost:8080/"
        },
        "id": "Yik9YBEE8GwO",
        "outputId": "60705195-e390-4ef2-8f37-738242bf5db5"
      },
      "execution_count": null,
      "outputs": [
        {
          "output_type": "stream",
          "name": "stdout",
          "text": [
            "713\n"
          ]
        }
      ]
    },
    {
      "cell_type": "markdown",
      "source": [
        "### Exo 2.5"
      ],
      "metadata": {
        "id": "rwgit8A6HMKp"
      }
    },
    {
      "cell_type": "code",
      "source": [
        "def plus_grand(tab):\n",
        "  num = 0\n",
        "  for y,i in enumerate(tab):\n",
        "      if num < i:\n",
        "          num = i\n",
        "          position = y + 1\n",
        "  return [num, position]\n",
        "\n",
        "###################################################\n",
        "\n",
        "tab = [99,55,100,62]\n",
        "        \n",
        "print(plus_grand(tab))"
      ],
      "metadata": {
        "colab": {
          "base_uri": "https://localhost:8080/"
        },
        "id": "FRv1Yml9HMkO",
        "outputId": "70256c73-9641-4f7e-f1d1-4b0e305b047c"
      },
      "execution_count": null,
      "outputs": [
        {
          "output_type": "stream",
          "name": "stdout",
          "text": [
            "[100, 3]\n"
          ]
        }
      ]
    },
    {
      "cell_type": "markdown",
      "source": [
        "### Exo 2.6"
      ],
      "metadata": {
        "id": "iUlY46ubIjeP"
      }
    },
    {
      "cell_type": "code",
      "source": [
        "def moyenne(tab):\n",
        "  somme = 0\n",
        "  for i in tab:\n",
        "    somme += i\n",
        "  return somme / len(tab)\n",
        "\n",
        "def plus_grand_que_moyenne(tab):\n",
        "  moy = moyenne(tab)\n",
        "  res = []\n",
        "  for j in tab:\n",
        "    if j > moy:\n",
        "      res.append(j)\n",
        "  return res\n",
        "\n",
        "###################################################\n",
        "\n",
        "tab = [12, 15, 18, 6, 9]\n",
        "\n",
        "print(plus_grand_que_moyenne(tab))"
      ],
      "metadata": {
        "colab": {
          "base_uri": "https://localhost:8080/"
        },
        "id": "vDoTVyZ7IjwB",
        "outputId": "a82a598b-1c3c-4fd6-f5ea-beb44737bae7"
      },
      "execution_count": null,
      "outputs": [
        {
          "output_type": "stream",
          "name": "stdout",
          "text": [
            "[15, 18]\n"
          ]
        }
      ]
    },
    {
      "cell_type": "markdown",
      "source": [
        "### Exo 2.7"
      ],
      "metadata": {
        "id": "tCLnsXYfL5Vs"
      }
    },
    {
      "cell_type": "code",
      "source": [
        "def multiplier_vecteur(vec1, vec2):\n",
        "  res = []\n",
        "  for i in range(2):\n",
        "      num = v1[i] * v2[i]\n",
        "      res.append(num)\n",
        "  return res\n",
        "\n",
        "###################################################\n",
        "\n",
        "v1 = [5, 8]\n",
        "v2 = [3, 6]\n",
        "\n",
        "print(multiplier_vecteur(v1, v2))"
      ],
      "metadata": {
        "id": "jinMT_HXL5mx"
      },
      "execution_count": null,
      "outputs": []
    },
    {
      "cell_type": "markdown",
      "source": [
        "### Exo 2.8"
      ],
      "metadata": {
        "id": "aZ1pOxNBqXJN"
      }
    },
    {
      "cell_type": "code",
      "source": [
        "def tris(tab):\n",
        "  for i in range(len(tab)):\n",
        "    for y in range(len(tab)):\n",
        "        if tab[i] < tab[y]:\n",
        "            tempo = tab[i]\n",
        "            tab[i] = tab[y]\n",
        "            tab[y] = tempo\n",
        "  return tab\n",
        "\n",
        "######################################################\n",
        "\n",
        "tab = [25,13,6,17,9]\n",
        "\n",
        "print(tris(tab))"
      ],
      "metadata": {
        "colab": {
          "base_uri": "https://localhost:8080/"
        },
        "id": "a_9FwOoKqXb4",
        "outputId": "b5f71ff3-99de-409c-f05a-9c6a486cca88"
      },
      "execution_count": null,
      "outputs": [
        {
          "output_type": "stream",
          "name": "stdout",
          "text": [
            "[6, 9, 13, 17, 25]\n"
          ]
        }
      ]
    },
    {
      "cell_type": "markdown",
      "source": [],
      "metadata": {
        "id": "LdLik7t6sCVY"
      }
    },
    {
      "cell_type": "code",
      "source": [],
      "metadata": {
        "id": "D1-4riXYsCuk"
      },
      "execution_count": null,
      "outputs": []
    }
  ]
}